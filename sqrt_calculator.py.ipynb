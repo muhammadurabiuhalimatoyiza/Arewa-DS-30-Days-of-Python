{
 "cells": [
  {
   "cell_type": "code",
   "execution_count": 1,
   "id": "bf825af6-677a-4073-97ec-3bbe41ac80e8",
   "metadata": {
    "tags": []
   },
   "outputs": [
    {
     "data": {
      "text/plain": [
       "10.0"
      ]
     },
     "execution_count": 1,
     "metadata": {},
     "output_type": "execute_result"
    }
   ],
   "source": [
    "import math\n",
    "sqrt = math.sqrt(100)\n",
    "sqrt"
   ]
  },
  {
   "cell_type": "code",
   "execution_count": null,
   "id": "7c8f171b-c100-4c72-8b69-8f71571656ff",
   "metadata": {},
   "outputs": [],
   "source": []
  }
 ],
 "metadata": {
  "kernelspec": {
   "display_name": "Python 3 (ipykernel)",
   "language": "python",
   "name": "python3"
  },
  "language_info": {
   "codemirror_mode": {
    "name": "ipython",
    "version": 3
   },
   "file_extension": ".py",
   "mimetype": "text/x-python",
   "name": "python",
   "nbconvert_exporter": "python",
   "pygments_lexer": "ipython3",
   "version": "3.11.5"
  }
 },
 "nbformat": 4,
 "nbformat_minor": 5
}
